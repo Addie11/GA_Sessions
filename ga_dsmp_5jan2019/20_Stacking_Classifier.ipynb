{
  "nbformat": 4,
  "nbformat_minor": 0,
  "metadata": {
    "colab": {
      "name": "Untitled0.ipynb",
      "version": "0.3.2",
      "provenance": []
    },
    "kernelspec": {
      "name": "python3",
      "display_name": "Python 3"
    }
  },
  "cells": [
    {
      "metadata": {
        "id": "VYhKP2cFVjqV",
        "colab_type": "code",
        "colab": {}
      },
      "cell_type": "code",
      "source": [
        "import numpy as np\n",
        "import warnings\n",
        "from mlxtend.classifier import StackingClassifier\n",
        "from sklearn import datasets\n",
        "from sklearn import model_selection\n",
        "from sklearn.ensemble import RandomForestClassifier\n",
        "from sklearn.linear_model import LogisticRegression\n",
        "from sklearn.naive_bayes import GaussianNB \n",
        "from sklearn.neighbors import KNeighborsClassifier"
      ],
      "execution_count": 0,
      "outputs": []
    },
    {
      "metadata": {
        "id": "x8cKW2q9WEwV",
        "colab_type": "code",
        "colab": {}
      },
      "cell_type": "code",
      "source": [
        "warnings.filterwarnings('ignore')"
      ],
      "execution_count": 0,
      "outputs": []
    },
    {
      "metadata": {
        "id": "ZyUTy9GfVkZC",
        "colab_type": "code",
        "colab": {}
      },
      "cell_type": "code",
      "source": [
        "iris = datasets.load_iris()\n",
        "X, y = iris.data[:, 1:3], iris.target"
      ],
      "execution_count": 0,
      "outputs": []
    },
    {
      "metadata": {
        "id": "TqX3FF9lVtl0",
        "colab_type": "code",
        "colab": {}
      },
      "cell_type": "code",
      "source": [
        "clf1 = KNeighborsClassifier(n_neighbors=1)\n",
        "clf2 = RandomForestClassifier(random_state=1)\n",
        "clf3 = GaussianNB()\n",
        "lr = LogisticRegression()\n",
        "sclf = StackingClassifier(classifiers=[clf1, clf2, clf3], \n",
        "                          use_probas=True,\n",
        "                          meta_classifier=lr)"
      ],
      "execution_count": 0,
      "outputs": []
    },
    {
      "metadata": {
        "id": "sKOP2yxjVvtl",
        "colab_type": "code",
        "outputId": "0c4156b4-f365-4f1b-9a0e-a9b65b2768a2",
        "colab": {
          "base_uri": "https://localhost:8080/",
          "height": 121
        }
      },
      "cell_type": "code",
      "source": [
        "print('3-fold cross validation:\\n')\n",
        "\n",
        "for clf, label in zip([clf1, clf2, clf3, sclf], \n",
        "                      ['KNN', \n",
        "                       'Random Forest', \n",
        "                       'Naive Bayes',\n",
        "                       'StackingClassifier']):\n",
        "  \n",
        "    scores = model_selection.cross_val_score(clf, X, y, \n",
        "                                              cv=3, scoring='f1_macro')\n",
        "    print(\"F1 Scores: %0.2f (+/- %0.2f) [%s]\" \n",
        "          % (scores.mean(), scores.std(), label))"
      ],
      "execution_count": 0,
      "outputs": [
        {
          "output_type": "stream",
          "text": [
            "3-fold cross validation:\n",
            "\n",
            "F1 Scores: 0.91 (+/- 0.01) [KNN]\n",
            "F1 Scores: 0.93 (+/- 0.05) [Random Forest]\n",
            "F1 Scores: 0.92 (+/- 0.03) [Naive Bayes]\n",
            "F1 Scores: 0.94 (+/- 0.03) [StackingClassifier]\n"
          ],
          "name": "stdout"
        }
      ]
    },
    {
      "metadata": {
        "id": "pe_gNES_YEG-",
        "colab_type": "code",
        "colab": {}
      },
      "cell_type": "code",
      "source": [
        ""
      ],
      "execution_count": 0,
      "outputs": []
    }
  ]
}