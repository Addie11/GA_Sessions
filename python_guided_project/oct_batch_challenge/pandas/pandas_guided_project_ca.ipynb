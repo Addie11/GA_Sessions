{
 "cells": [
  {
   "cell_type": "markdown",
   "metadata": {},
   "source": [
    "# Sales report using Pandas\n",
    "***\n",
    "## Problem Statement\n",
    "\n",
    "Hello budding Data Scientists. We have with us a bank data set which gives information about the revenue of various customers spread across different regions in USA.\n",
    "\n",
    "Using the knowledge of Pandas and Matplotlib, we will try to answer certain questions from the bank dataset  \n",
    "\n",
    "We will also then scrape certain additional data from Wikipedia, clean it and combine it with our bank data for better understandability of the data.      \n",
    "\n",
    "\n",
    "## About the Dataset\n",
    "\n",
    "Preview of the dataset \n",
    "\n",
    "![bank_dataset](../images/bank_data.png)\n",
    "\n",
    "The dataset has details of 15 customers with following 9 features.\n",
    "\n",
    "|Feature|Description|\n",
    "|-----|-----|\n",
    "|account|account Id|\n",
    "|name|name of the person|\n",
    "|street|Name of the street|\n",
    "|city|Name of the city|\n",
    "|state|Name of the state|\n",
    "|postal-code|numerical value|\n",
    "|Jan|Amount in doller|\n",
    "|Feb|Amount in doller|\n",
    "|Mar|Amount in doller|\n",
    "\n",
    "\n",
    "\n",
    "\n",
    "## Why solve this project\n",
    "\n",
    "Doing this project will enable you to integrate Multiple data sources to answer basic questions. You will also learn to perform common excel tasks with pandas\n",
    "\n",
    "What will you learn in the session ?\n",
    "Python Basics\n",
    "Pandas\n",
    "Web Scrapping\n",
    "Functions\n",
    "Plotting\n",
    "Pre-requisites\n",
    "Working knowledge of Pandas, Numpy, Matplotlib\n",
    "Data indexing and slicing"
   ]
  },
  {
   "cell_type": "markdown",
   "metadata": {},
   "source": [
    "# Load Data and Compute total\n",
    "The first step - you know the drill by now - load the dataset and see how it looks like. Additionally, calculate the total amount in the first quarter of the financial year. Calculate the total amount of all the users for the month of jan, feb and Mar and also grand total. \n",
    "  \n",
    "\n",
    "## Instructions\n",
    "\n",
    "- Load dataset using pandas read_csv api in variable `df` and give file path as `path`.\n",
    "- The names of the states `state` column are changed to lower case and store it in `df['state']`\n",
    "- Create a new column named `total` which computes the total amount in the first quarter\n",
    "  of the financial year i.e. for the months of Jan, Feb and Mar and store it in `df['total']`\n",
    "- Calculate the sum of amount of all users in the Month of Jan, Feb, March and store it in variable `sum_row` \n",
    " (Here the sum implies the sum of all the entries in the `Jan Column`, sum of entries in `Feb` Column and Grand total stands for the sum of entries in the column `total`)\n",
    "- Append this computed sum to the DataFrame `df_final` \n",
    "\n",
    "## Hints:\n",
    "\n",
    "- To convert state into lower case use `df['state'] = df['state'].apply(lambda x: x.lower())`\n",
    "\n",
    "\n",
    "\n",
    "## TestCase:\n",
    "\n",
    "- variable check df\n",
    "- df type == pandas.core.frame.DataFrame\n",
    "- df.shape == (15,10)\n",
    "- variable check `sum_row`\n",
    "- variable check `df_sum`\n",
    "- df_sum type == pandas.core.frame.DataFrame\n",
    "- variable check `df_final`\n",
    "- df_final type == pandas.core.frame.DataFrame\n",
    "- df_final.shape == (16 ,10)\n",
    "\n",
    "\n",
    "\n"
   ]
  },
  {
   "cell_type": "code",
   "execution_count": null,
   "metadata": {
    "collapsed": true
   },
   "outputs": [],
   "source": [
    "import numpy as np\n",
    "import pandas as pd\n",
    "import matplotlib.pyplot as plt\n",
    "import seaborn as sns\n",
    "%matplotlib inline\n",
    "# load the dataset\n",
    "df = pd.read_csv(\"excel-comp-data.csv\")\n"
   ]
  },
  {
   "cell_type": "code",
   "execution_count": null,
   "metadata": {},
   "outputs": [],
   "source": [
    "df.head()"
   ]
  },
  {
   "cell_type": "code",
   "execution_count": null,
   "metadata": {
    "collapsed": true
   },
   "outputs": [],
   "source": [
    "# convert state column in lower case\n",
    "df['state'] = df['state'].apply(lambda x: x.lower())"
   ]
  },
  {
   "cell_type": "code",
   "execution_count": null,
   "metadata": {},
   "outputs": [],
   "source": [
    "df.head()"
   ]
  },
  {
   "cell_type": "code",
   "execution_count": null,
   "metadata": {
    "collapsed": true
   },
   "outputs": [],
   "source": [
    "# Calculate the total\n",
    "df[\"total\"] = df[\"Jan\"] + df[\"Feb\"] + df[\"Mar\"]"
   ]
  },
  {
   "cell_type": "code",
   "execution_count": null,
   "metadata": {},
   "outputs": [],
   "source": [
    "# sum of amount\n",
    "sum_row = df[[\"Jan\", \"Feb\", \"Mar\", \"total\"]].sum()\n",
    "\n",
    "# append the row\n",
    "df_final = df.append(sum_row, ignore_index=True)"
   ]
  },
  {
   "cell_type": "code",
   "execution_count": null,
   "metadata": {},
   "outputs": [],
   "source": [
    "df_final"
   ]
  },
  {
   "cell_type": "markdown",
   "metadata": {},
   "source": [
    "## Success Message:\n",
    "\n",
    "Congrats!\n",
    "You have successfully calculated the total for the first quarter.\n"
   ]
  },
  {
   "cell_type": "markdown",
   "metadata": {},
   "source": [
    "# Scrape Data From the web \n",
    "\n",
    "Here, you will be scraping data from the web and cleaning it. \n",
    " \n",
    "  \n",
    "## Instructions:\n",
    "\n",
    "- Scrapes the url `https://en.wikipedia.org/wiki/List_of_U.S._state_abbreviations` and store it in variable `url`\n",
    "- Use module `requests` to `get` the url and store it in variable called `response`\n",
    "- load the html file in dataframe `df1`. `Note`:use `pd.read_html(response.content)[0]`.   \n",
    "- First few rows consists of unclean data. You need to select rows from index 11 till end. Make the values at index 11 as column headers and store it in dataframe `df1`.\n",
    "- Remove space from the column named 'United States of America' and store the result in dataframe called `df1['United States of America']`\n",
    "\n",
    "## Hints:\n",
    "\n",
    "- Remove the space from column use `df1['United States of America'].apply(lambda x: x.replace(\" \", \"\")).astype(object)`\n",
    "\n",
    "\n",
    "## Testcase:\n",
    "\n",
    "- variable check `url`\n",
    "- variable check df1\n",
    "- df1.shape == (85,15)\n"
   ]
  },
  {
   "cell_type": "code",
   "execution_count": null,
   "metadata": {
    "collapsed": true
   },
   "outputs": [],
   "source": [
    "import requests\n",
    "\n",
    "# intialize the url\n",
    "url = 'https://en.wikipedia.org/wiki/List_of_U.S._state_abbreviations'\n",
    "response = requests.get(url)\n",
    "\n"
   ]
  },
  {
   "cell_type": "code",
   "execution_count": null,
   "metadata": {},
   "outputs": [],
   "source": [
    "df1 = pd.read_html(response.content)[0]\n",
    "df1 = df1.iloc[11:, :]"
   ]
  },
  {
   "cell_type": "code",
   "execution_count": null,
   "metadata": {},
   "outputs": [],
   "source": [
    "df1"
   ]
  },
  {
   "cell_type": "code",
   "execution_count": null,
   "metadata": {},
   "outputs": [],
   "source": [
    "df1 = df1.rename(columns=df1.iloc[0, :]).iloc[1:, :]\n",
    "df1"
   ]
  },
  {
   "cell_type": "code",
   "execution_count": null,
   "metadata": {
    "collapsed": true
   },
   "outputs": [],
   "source": [
    "df1['United States of America'] = df1['United States of America'].apply(lambda x: x.replace(\" \", \"\")).astype(object)"
   ]
  },
  {
   "cell_type": "code",
   "execution_count": null,
   "metadata": {},
   "outputs": [],
   "source": [
    "df1"
   ]
  },
  {
   "cell_type": "markdown",
   "metadata": {},
   "source": [
    "## Success Message:\n",
    "Congrats!\n",
    "You have successfully scrapped the data."
   ]
  },
  {
   "cell_type": "markdown",
   "metadata": {},
   "source": [
    "# Mapping Countries to their abbreviations\n",
    "\n",
    "Using the data scraped from the previous task, map abbriviation to the name of states.\n",
    " \n",
    "  \n",
    "\n",
    "## Instructions:\n",
    "\n",
    "- Load scraped dataset using pandas read_csv api in variable `scraped` and give file path as `path1` \n",
    "- Using the scraped data create a variable called `mapping` which has the Country\n",
    " as key and Abbreviation as value\n",
    "- Create a new column called `abbr` as the 7th column (index = 6) of the DataFrame `df_final`\n",
    "- map the `df_final['state']` on variable `mapping` and store it in `df_final['abbr']` \n",
    "\n",
    "## Hints:\n",
    "\n",
    "- for the mapping use `df1.set_index('United States of America')['US'].to_dict()`\n",
    "\n",
    "## Testcase :\n",
    "\n",
    "- variable check scraped\n",
    "- scrapped.type == pandas.core.frame.DataFrame\n",
    "- variable check df_final \n",
    "- df_final.type == pandas.core.frame.DataFrame\n",
    "- df_final.shape == (16,11)\n"
   ]
  },
  {
   "cell_type": "code",
   "execution_count": null,
   "metadata": {},
   "outputs": [],
   "source": [
    "# Load the dataframe\n",
    "df1 = pd.read_csv(\"scraped.csv\")\n",
    "df1['United States of America'] = df1['United States of America'].astype(str).apply(lambda x: x.lower())\n",
    "df1['US'] = df1['US'].astype(str)"
   ]
  },
  {
   "cell_type": "code",
   "execution_count": null,
   "metadata": {},
   "outputs": [],
   "source": []
  },
  {
   "cell_type": "code",
   "execution_count": null,
   "metadata": {
    "collapsed": true
   },
   "outputs": [],
   "source": []
  },
  {
   "cell_type": "code",
   "execution_count": null,
   "metadata": {
    "collapsed": true
   },
   "outputs": [],
   "source": [
    "# Mapping\n",
    "mapping = df1.set_index('United States of America')['US'].to_dict()\n",
    "df_final.insert(6, 'abbr', np.nan)\n",
    "df_final['abbr'] = df_final['state'].map(mapping)"
   ]
  },
  {
   "cell_type": "code",
   "execution_count": null,
   "metadata": {
    "scrolled": false
   },
   "outputs": [],
   "source": [
    "df_final"
   ]
  },
  {
   "cell_type": "markdown",
   "metadata": {},
   "source": [
    "## Success Message:\n",
    "Congrats!\n",
    "You have successfully added the `abbr` column."
   ]
  },
  {
   "cell_type": "markdown",
   "metadata": {},
   "source": [
    "# Filling in the Missing Values\n",
    "\n",
    "What you will notice in the previous task is that for two states Mississippi and Tennessee will have NaN values in column `abbr`. In this task you will be filling those missing values manually. \n",
    " \n",
    "  \n",
    "\n",
    "## Intructions :\n",
    "-   \n",
    "- Locate the NaN in the abbr and replace `mississipi` with `MS` and store it in `df_mississipi`\n",
    "- Locate the NaN in the abbr and replace `tenessee` with `TN` and store it in `df_tenessee`\n",
    "- update the df_final\n",
    "\n",
    "\n",
    "## Hints:\n",
    "- To fill the nan values use `df_final[df_final['state'] == 'mississipi'].replace(np.nan, 'MS')`\n",
    "\n",
    "## Testcase:\n",
    "\n",
    "- variable check `df_mississipi`\n",
    "- variable check `df_tenessee`\n"
   ]
  },
  {
   "cell_type": "code",
   "execution_count": null,
   "metadata": {
    "collapsed": true
   },
   "outputs": [],
   "source": [
    "# replace missing values \n",
    "df_mississipi = df_final[df_final['state'] == 'mississipi'].replace(np.nan, 'MS')\n",
    "df_tenessee = df_final[df_final['state'] == 'tenessee'].replace(np.nan, 'TN')\n",
    "\n",
    "# replace the final_df\n",
    "df_final.replace(df_final.iloc[6], df_mississipi, inplace=True)\n",
    "df_final.replace(df_final.iloc[10], df_tenessee, inplace=True)"
   ]
  },
  {
   "cell_type": "code",
   "execution_count": null,
   "metadata": {},
   "outputs": [],
   "source": [
    "df_final"
   ]
  },
  {
   "cell_type": "markdown",
   "metadata": {},
   "source": [
    "## Success Message:\n",
    "\n",
    "Congrats!\n",
    "You have successfully filled the missing values."
   ]
  },
  {
   "cell_type": "markdown",
   "metadata": {},
   "source": [
    "## Total amount bank hold  \n",
    "\n",
    "\n",
    "Here, use the newly created abbr column to understand the total amount that the bank holds in each state. Let us make this data frame more readable by introducing units in this case `$` sign representing the unit of mone\n",
    " \n",
    "  \n",
    "\n",
    "## Instructions :\n",
    "  \n",
    "- Groups by `abbr` and finds the sum of aabr,jan,feb ,mar and total store the result in `df_sub`\n",
    "- Write a `lambda function` to introduce `$` sign infromt of all the numbers using `applymap` and store the result in `formatted_df`\n",
    "\n",
    "\n",
    "## Hints:\n",
    "\n",
    "- To introduce `$` use `df_sub.applymap(lambda x: \"${:,.0f}\".format(x))`.\n",
    "\n",
    "## Test case:\n",
    "\n",
    "- variable check `df_sub`\n",
    "- df_sub.shape == (13,4)\n",
    "- variable check `formatted_df`\n",
    "- formatted_df.shape == (13 ,4)\n"
   ]
  },
  {
   "cell_type": "code",
   "execution_count": null,
   "metadata": {
    "collapsed": true
   },
   "outputs": [],
   "source": [
    "# Calculate the total amount\n",
    "df_sub=df_final[[\"abbr\", \"Jan\", \"Feb\", \"Mar\", \"total\"]].groupby(\"abbr\").sum()\n",
    "\n",
    "# Add the $ symbol\n",
    "formatted_df = df_sub.applymap(lambda x: \"${:,.0f}\".format(x))\n",
    "\n",
    "\n",
    "\n"
   ]
  },
  {
   "cell_type": "code",
   "execution_count": null,
   "metadata": {},
   "outputs": [],
   "source": [
    "formatted_df"
   ]
  },
  {
   "cell_type": "markdown",
   "metadata": {},
   "source": [
    "## Success Message :\n",
    "\n",
    "Congrats!\n",
    "Ypu have successfully calculated the total amount banks holds."
   ]
  },
  {
   "cell_type": "markdown",
   "metadata": {},
   "source": [
    "# Append a row to the DataFrame\n",
    "\n",
    "In this task, you will append a row to the data frame which will give us information about the total amount of the various regions in Jan, Feb and march and also the grand total\n",
    " \n",
    "## Instructions :\n",
    "\n",
    "- Computes the sum of amount of all users in the Month of Jan, Feb, March and the  total in variable called `sum_row` \n",
    " (Here the sum implies the sum of all the entries in the `Jan Column`, sum of entries in `Feb` Column and Grand total stands for the sum of entries in the column `total`)\n",
    "- Tranpose the dataframe `sum_row` and store it in new dataframe `df_sub_sum` \n",
    "- Make sure you append the `$` to all the digits and store it in dataframe `df_sub_sum` .\n",
    "- Append this computed sum to the DataFrame `final_table` \n",
    "- rename the index of `final_table` to  `{0: \"Total\"}` \n",
    "\n",
    "\n",
    "## Hints:\n",
    "\n",
    "- to transpose the dataframe use `pd.DataFrame(data=sum_row).T`\n",
    "\n",
    "## Test case :\n",
    "\n",
    "- variable check `sum_row`\n",
    "- variable check `df_sub_sum`\n",
    "- variable check `final_table`\n",
    "- final_table.shape == (14,4) "
   ]
  },
  {
   "cell_type": "code",
   "execution_count": null,
   "metadata": {
    "collapsed": true
   },
   "outputs": [],
   "source": [
    "# Calculate the sum\n",
    "sum_row = df_sub[[\"Jan\", \"Feb\", \"Mar\", \"total\"]].sum()\n",
    "df_sub_sum = pd.DataFrame(data=sum_row).T\n",
    "\n",
    "#apply $ to the sum \n",
    "df_sub_sum = df_sub_sum.applymap(lambda x: \"${:,.0f}\".format(x))\n",
    "\n",
    "# append the sum\n",
    "final_table = formatted_df.append(df_sub_sum)\n",
    "# rename the index\n",
    "final_table = final_table.rename(index={0: \"Total\"})\n",
    "    "
   ]
  },
  {
   "cell_type": "code",
   "execution_count": null,
   "metadata": {},
   "outputs": [],
   "source": [
    "final_table"
   ]
  },
  {
   "cell_type": "markdown",
   "metadata": {},
   "source": [
    "## Success Message:\n",
    "\n",
    "Congrats!\n",
    "You have successfully appended the total."
   ]
  },
  {
   "cell_type": "markdown",
   "metadata": {},
   "source": [
    "# Pie chart for total\n",
    "\n",
    "\n",
    "Having prepared all the data now its time to present the results visually\n",
    " \n",
    "## Instructions :\n",
    "- add the total of all the three months and store it in variable called `df_sub['total']`\n",
    "- plot the pie chart for the `df_sub['total']`\n",
    "\n",
    "\n",
    "## Hints:\n",
    "\n",
    "- To calculate total use `df_sub['Jan'] + df_sub['Feb'] + df_sub['Mar']`\n",
    "\n",
    "## Test case:\n",
    "\n",
    "- variable check df_sub['total']\n",
    "- df_sub['total']['AR'] == 305000\n"
   ]
  },
  {
   "cell_type": "code",
   "execution_count": null,
   "metadata": {},
   "outputs": [],
   "source": [
    "df_sub['total'] = df_sub['Jan'] + df_sub['Feb'] + df_sub['Mar']\n",
    "df_sub['total'].plot(kind='pie')"
   ]
  },
  {
   "cell_type": "code",
   "execution_count": null,
   "metadata": {},
   "outputs": [],
   "source": [
    "df_sub['total']"
   ]
  },
  {
   "cell_type": "markdown",
   "metadata": {},
   "source": [
    "## Success Message:\n",
    "\n",
    "Congrats!\n",
    "You have successfully plotted pie chart."
   ]
  },
  {
   "cell_type": "code",
   "execution_count": null,
   "metadata": {},
   "outputs": [],
   "source": [
    "df_sub['total'].plot(kind='pie')"
   ]
  },
  {
   "cell_type": "code",
   "execution_count": null,
   "metadata": {
    "collapsed": true
   },
   "outputs": [],
   "source": []
  }
 ],
 "metadata": {
  "kernelspec": {
   "display_name": "Python 2",
   "language": "python",
   "name": "python2"
  },
  "language_info": {
   "codemirror_mode": {
    "name": "ipython",
    "version": 2
   },
   "file_extension": ".py",
   "mimetype": "text/x-python",
   "name": "python",
   "nbconvert_exporter": "python",
   "pygments_lexer": "ipython2",
   "version": "2.7.13"
  }
 },
 "nbformat": 4,
 "nbformat_minor": 2
}
